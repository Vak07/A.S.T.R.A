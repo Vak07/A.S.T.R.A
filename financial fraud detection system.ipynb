{
 "cells": [
  {
   "cell_type": "code",
   "execution_count": 105,
   "id": "df91cd8d",
   "metadata": {},
   "outputs": [],
   "source": [
    "import pandas as pd\n",
    "import numpy as np\n",
    "from collections import Counter\n",
    "\n",
    "import matplotlib.pyplot as plt\n",
    "import seaborn as sns\n",
    "\n",
    "from sklearn.model_selection import train_test_split\n",
    "from sklearn.preprocessing import StandardScaler\n",
    "from sklearn.metrics import classification_report\n",
    "\n",
    "import tensorflow as tf\n",
    "from tensorflow.keras import layers, losses\n",
    "from tensorflow.keras.models import Model\n",
    "from tensorflow.keras.layers import Input, Dense\n",
    "from tensorflow.keras.callbacks import EarlyStopping\n"
   ]
  },
  {
   "cell_type": "code",
   "execution_count": 106,
   "id": "75999eef-d5bf-40f2-b7b4-99ff510dc04a",
   "metadata": {},
   "outputs": [],
   "source": [
    "account_activity = pd.read_csv('account_activity.csv')\n",
    "customer_data = pd.read_csv('customer_data.csv')\n",
    "fraud_indicators = pd.read_csv('fraud_indicators.csv')\n",
    "suspicious_activity = pd.read_csv('suspicious_activity.csv')\n",
    "merchant_data = pd.read_csv('merchant_data.csv')\n",
    "transaction_category_labels = pd.read_csv('transaction_category_labels.csv')\n",
    "amount_data = pd.read_csv('amount_data.csv')\n",
    "anomaly_scores = pd.read_csv('anomaly_scores.csv')\n",
    "transaction_metadata = pd.read_csv('transaction_metadata.csv')\n",
    "transaction_records = pd.read_csv('transaction_records.csv')"
   ]
  },
  {
   "cell_type": "code",
   "execution_count": 107,
   "id": "bc5f94ce-6fb5-40bd-b426-0e014007c07d",
   "metadata": {
    "scrolled": true
   },
   "outputs": [
    {
     "data": {
      "text/html": [
       "<div>\n",
       "<style scoped>\n",
       "    .dataframe tbody tr th:only-of-type {\n",
       "        vertical-align: middle;\n",
       "    }\n",
       "\n",
       "    .dataframe tbody tr th {\n",
       "        vertical-align: top;\n",
       "    }\n",
       "\n",
       "    .dataframe thead th {\n",
       "        text-align: right;\n",
       "    }\n",
       "</style>\n",
       "<table border=\"1\" class=\"dataframe\">\n",
       "  <thead>\n",
       "    <tr style=\"text-align: right;\">\n",
       "      <th></th>\n",
       "      <th>CustomerID</th>\n",
       "      <th>AccountBalance</th>\n",
       "      <th>LastLogin</th>\n",
       "    </tr>\n",
       "  </thead>\n",
       "  <tbody>\n",
       "    <tr>\n",
       "      <th>0</th>\n",
       "      <td>1001</td>\n",
       "      <td>9507.272060</td>\n",
       "      <td>2022-01-01</td>\n",
       "    </tr>\n",
       "    <tr>\n",
       "      <th>1</th>\n",
       "      <td>1002</td>\n",
       "      <td>7408.704536</td>\n",
       "      <td>2022-01-02</td>\n",
       "    </tr>\n",
       "    <tr>\n",
       "      <th>2</th>\n",
       "      <td>1003</td>\n",
       "      <td>1715.321989</td>\n",
       "      <td>2022-01-03</td>\n",
       "    </tr>\n",
       "    <tr>\n",
       "      <th>3</th>\n",
       "      <td>1004</td>\n",
       "      <td>3101.509134</td>\n",
       "      <td>2022-01-04</td>\n",
       "    </tr>\n",
       "    <tr>\n",
       "      <th>4</th>\n",
       "      <td>1005</td>\n",
       "      <td>5405.766914</td>\n",
       "      <td>2022-01-05</td>\n",
       "    </tr>\n",
       "  </tbody>\n",
       "</table>\n",
       "</div>"
      ],
      "text/plain": [
       "   CustomerID  AccountBalance   LastLogin\n",
       "0        1001     9507.272060  2022-01-01\n",
       "1        1002     7408.704536  2022-01-02\n",
       "2        1003     1715.321989  2022-01-03\n",
       "3        1004     3101.509134  2022-01-04\n",
       "4        1005     5405.766914  2022-01-05"
      ]
     },
     "execution_count": 107,
     "metadata": {},
     "output_type": "execute_result"
    }
   ],
   "source": [
    "account_activity.head()"
   ]
  },
  {
   "cell_type": "code",
   "execution_count": 108,
   "id": "9addb204-d9fa-425e-9732-59990aea3ced",
   "metadata": {},
   "outputs": [
    {
     "data": {
      "text/html": [
       "<div>\n",
       "<style scoped>\n",
       "    .dataframe tbody tr th:only-of-type {\n",
       "        vertical-align: middle;\n",
       "    }\n",
       "\n",
       "    .dataframe tbody tr th {\n",
       "        vertical-align: top;\n",
       "    }\n",
       "\n",
       "    .dataframe thead th {\n",
       "        text-align: right;\n",
       "    }\n",
       "</style>\n",
       "<table border=\"1\" class=\"dataframe\">\n",
       "  <thead>\n",
       "    <tr style=\"text-align: right;\">\n",
       "      <th></th>\n",
       "      <th>CustomerID</th>\n",
       "      <th>Name</th>\n",
       "      <th>Age</th>\n",
       "      <th>Address</th>\n",
       "    </tr>\n",
       "  </thead>\n",
       "  <tbody>\n",
       "    <tr>\n",
       "      <th>0</th>\n",
       "      <td>1001</td>\n",
       "      <td>Customer 1001</td>\n",
       "      <td>54</td>\n",
       "      <td>Address 1001</td>\n",
       "    </tr>\n",
       "    <tr>\n",
       "      <th>1</th>\n",
       "      <td>1002</td>\n",
       "      <td>Customer 1002</td>\n",
       "      <td>35</td>\n",
       "      <td>Address 1002</td>\n",
       "    </tr>\n",
       "    <tr>\n",
       "      <th>2</th>\n",
       "      <td>1003</td>\n",
       "      <td>Customer 1003</td>\n",
       "      <td>40</td>\n",
       "      <td>Address 1003</td>\n",
       "    </tr>\n",
       "    <tr>\n",
       "      <th>3</th>\n",
       "      <td>1004</td>\n",
       "      <td>Customer 1004</td>\n",
       "      <td>30</td>\n",
       "      <td>Address 1004</td>\n",
       "    </tr>\n",
       "    <tr>\n",
       "      <th>4</th>\n",
       "      <td>1005</td>\n",
       "      <td>Customer 1005</td>\n",
       "      <td>46</td>\n",
       "      <td>Address 1005</td>\n",
       "    </tr>\n",
       "  </tbody>\n",
       "</table>\n",
       "</div>"
      ],
      "text/plain": [
       "   CustomerID           Name  Age       Address\n",
       "0        1001  Customer 1001   54  Address 1001\n",
       "1        1002  Customer 1002   35  Address 1002\n",
       "2        1003  Customer 1003   40  Address 1003\n",
       "3        1004  Customer 1004   30  Address 1004\n",
       "4        1005  Customer 1005   46  Address 1005"
      ]
     },
     "execution_count": 108,
     "metadata": {},
     "output_type": "execute_result"
    }
   ],
   "source": [
    "customer_data.head()"
   ]
  },
  {
   "cell_type": "code",
   "execution_count": 109,
   "id": "0a6e9875-b82b-4cc7-b60d-543936355c22",
   "metadata": {},
   "outputs": [
    {
     "data": {
      "text/html": [
       "<div>\n",
       "<style scoped>\n",
       "    .dataframe tbody tr th:only-of-type {\n",
       "        vertical-align: middle;\n",
       "    }\n",
       "\n",
       "    .dataframe tbody tr th {\n",
       "        vertical-align: top;\n",
       "    }\n",
       "\n",
       "    .dataframe thead th {\n",
       "        text-align: right;\n",
       "    }\n",
       "</style>\n",
       "<table border=\"1\" class=\"dataframe\">\n",
       "  <thead>\n",
       "    <tr style=\"text-align: right;\">\n",
       "      <th></th>\n",
       "      <th>TransactionID</th>\n",
       "      <th>FraudIndicator</th>\n",
       "    </tr>\n",
       "  </thead>\n",
       "  <tbody>\n",
       "    <tr>\n",
       "      <th>0</th>\n",
       "      <td>1</td>\n",
       "      <td>0</td>\n",
       "    </tr>\n",
       "    <tr>\n",
       "      <th>1</th>\n",
       "      <td>2</td>\n",
       "      <td>0</td>\n",
       "    </tr>\n",
       "    <tr>\n",
       "      <th>2</th>\n",
       "      <td>3</td>\n",
       "      <td>0</td>\n",
       "    </tr>\n",
       "    <tr>\n",
       "      <th>3</th>\n",
       "      <td>4</td>\n",
       "      <td>0</td>\n",
       "    </tr>\n",
       "    <tr>\n",
       "      <th>4</th>\n",
       "      <td>5</td>\n",
       "      <td>0</td>\n",
       "    </tr>\n",
       "  </tbody>\n",
       "</table>\n",
       "</div>"
      ],
      "text/plain": [
       "   TransactionID  FraudIndicator\n",
       "0              1               0\n",
       "1              2               0\n",
       "2              3               0\n",
       "3              4               0\n",
       "4              5               0"
      ]
     },
     "execution_count": 109,
     "metadata": {},
     "output_type": "execute_result"
    }
   ],
   "source": [
    "fraud_indicators.head()"
   ]
  },
  {
   "cell_type": "code",
   "execution_count": 110,
   "id": "df826f03-ef24-43c2-8417-44e75feb823b",
   "metadata": {},
   "outputs": [
    {
     "data": {
      "text/html": [
       "<div>\n",
       "<style scoped>\n",
       "    .dataframe tbody tr th:only-of-type {\n",
       "        vertical-align: middle;\n",
       "    }\n",
       "\n",
       "    .dataframe tbody tr th {\n",
       "        vertical-align: top;\n",
       "    }\n",
       "\n",
       "    .dataframe thead th {\n",
       "        text-align: right;\n",
       "    }\n",
       "</style>\n",
       "<table border=\"1\" class=\"dataframe\">\n",
       "  <thead>\n",
       "    <tr style=\"text-align: right;\">\n",
       "      <th></th>\n",
       "      <th>CustomerID</th>\n",
       "      <th>SuspiciousFlag</th>\n",
       "    </tr>\n",
       "  </thead>\n",
       "  <tbody>\n",
       "    <tr>\n",
       "      <th>0</th>\n",
       "      <td>1001</td>\n",
       "      <td>0</td>\n",
       "    </tr>\n",
       "    <tr>\n",
       "      <th>1</th>\n",
       "      <td>1002</td>\n",
       "      <td>0</td>\n",
       "    </tr>\n",
       "    <tr>\n",
       "      <th>2</th>\n",
       "      <td>1003</td>\n",
       "      <td>0</td>\n",
       "    </tr>\n",
       "    <tr>\n",
       "      <th>3</th>\n",
       "      <td>1004</td>\n",
       "      <td>0</td>\n",
       "    </tr>\n",
       "    <tr>\n",
       "      <th>4</th>\n",
       "      <td>1005</td>\n",
       "      <td>0</td>\n",
       "    </tr>\n",
       "  </tbody>\n",
       "</table>\n",
       "</div>"
      ],
      "text/plain": [
       "   CustomerID  SuspiciousFlag\n",
       "0        1001               0\n",
       "1        1002               0\n",
       "2        1003               0\n",
       "3        1004               0\n",
       "4        1005               0"
      ]
     },
     "execution_count": 110,
     "metadata": {},
     "output_type": "execute_result"
    }
   ],
   "source": [
    "suspicious_activity.head()"
   ]
  },
  {
   "cell_type": "code",
   "execution_count": 111,
   "id": "8923b3fc-bf8a-42bc-9f9f-e4e0cb80a423",
   "metadata": {},
   "outputs": [
    {
     "data": {
      "text/html": [
       "<div>\n",
       "<style scoped>\n",
       "    .dataframe tbody tr th:only-of-type {\n",
       "        vertical-align: middle;\n",
       "    }\n",
       "\n",
       "    .dataframe tbody tr th {\n",
       "        vertical-align: top;\n",
       "    }\n",
       "\n",
       "    .dataframe thead th {\n",
       "        text-align: right;\n",
       "    }\n",
       "</style>\n",
       "<table border=\"1\" class=\"dataframe\">\n",
       "  <thead>\n",
       "    <tr style=\"text-align: right;\">\n",
       "      <th></th>\n",
       "      <th>MerchantID</th>\n",
       "      <th>MerchantName</th>\n",
       "      <th>Location</th>\n",
       "    </tr>\n",
       "  </thead>\n",
       "  <tbody>\n",
       "    <tr>\n",
       "      <th>0</th>\n",
       "      <td>2001</td>\n",
       "      <td>Merchant 2001</td>\n",
       "      <td>Location 2001</td>\n",
       "    </tr>\n",
       "    <tr>\n",
       "      <th>1</th>\n",
       "      <td>2002</td>\n",
       "      <td>Merchant 2002</td>\n",
       "      <td>Location 2002</td>\n",
       "    </tr>\n",
       "    <tr>\n",
       "      <th>2</th>\n",
       "      <td>2003</td>\n",
       "      <td>Merchant 2003</td>\n",
       "      <td>Location 2003</td>\n",
       "    </tr>\n",
       "    <tr>\n",
       "      <th>3</th>\n",
       "      <td>2004</td>\n",
       "      <td>Merchant 2004</td>\n",
       "      <td>Location 2004</td>\n",
       "    </tr>\n",
       "    <tr>\n",
       "      <th>4</th>\n",
       "      <td>2005</td>\n",
       "      <td>Merchant 2005</td>\n",
       "      <td>Location 2005</td>\n",
       "    </tr>\n",
       "  </tbody>\n",
       "</table>\n",
       "</div>"
      ],
      "text/plain": [
       "   MerchantID   MerchantName       Location\n",
       "0        2001  Merchant 2001  Location 2001\n",
       "1        2002  Merchant 2002  Location 2002\n",
       "2        2003  Merchant 2003  Location 2003\n",
       "3        2004  Merchant 2004  Location 2004\n",
       "4        2005  Merchant 2005  Location 2005"
      ]
     },
     "execution_count": 111,
     "metadata": {},
     "output_type": "execute_result"
    }
   ],
   "source": [
    "merchant_data.head()"
   ]
  },
  {
   "cell_type": "code",
   "execution_count": 112,
   "id": "af6e9a9a-ef67-43e7-a584-588d96bdfa9b",
   "metadata": {},
   "outputs": [
    {
     "data": {
      "text/html": [
       "<div>\n",
       "<style scoped>\n",
       "    .dataframe tbody tr th:only-of-type {\n",
       "        vertical-align: middle;\n",
       "    }\n",
       "\n",
       "    .dataframe tbody tr th {\n",
       "        vertical-align: top;\n",
       "    }\n",
       "\n",
       "    .dataframe thead th {\n",
       "        text-align: right;\n",
       "    }\n",
       "</style>\n",
       "<table border=\"1\" class=\"dataframe\">\n",
       "  <thead>\n",
       "    <tr style=\"text-align: right;\">\n",
       "      <th></th>\n",
       "      <th>TransactionID</th>\n",
       "      <th>Category</th>\n",
       "    </tr>\n",
       "  </thead>\n",
       "  <tbody>\n",
       "    <tr>\n",
       "      <th>0</th>\n",
       "      <td>1</td>\n",
       "      <td>Other</td>\n",
       "    </tr>\n",
       "    <tr>\n",
       "      <th>1</th>\n",
       "      <td>2</td>\n",
       "      <td>Online</td>\n",
       "    </tr>\n",
       "    <tr>\n",
       "      <th>2</th>\n",
       "      <td>3</td>\n",
       "      <td>Travel</td>\n",
       "    </tr>\n",
       "    <tr>\n",
       "      <th>3</th>\n",
       "      <td>4</td>\n",
       "      <td>Travel</td>\n",
       "    </tr>\n",
       "    <tr>\n",
       "      <th>4</th>\n",
       "      <td>5</td>\n",
       "      <td>Other</td>\n",
       "    </tr>\n",
       "  </tbody>\n",
       "</table>\n",
       "</div>"
      ],
      "text/plain": [
       "   TransactionID Category\n",
       "0              1    Other\n",
       "1              2   Online\n",
       "2              3   Travel\n",
       "3              4   Travel\n",
       "4              5    Other"
      ]
     },
     "execution_count": 112,
     "metadata": {},
     "output_type": "execute_result"
    }
   ],
   "source": [
    "transaction_category_labels.head()"
   ]
  },
  {
   "cell_type": "code",
   "execution_count": 113,
   "id": "d9c4105b-9301-4863-b29a-06b130440357",
   "metadata": {},
   "outputs": [
    {
     "data": {
      "text/html": [
       "<div>\n",
       "<style scoped>\n",
       "    .dataframe tbody tr th:only-of-type {\n",
       "        vertical-align: middle;\n",
       "    }\n",
       "\n",
       "    .dataframe tbody tr th {\n",
       "        vertical-align: top;\n",
       "    }\n",
       "\n",
       "    .dataframe thead th {\n",
       "        text-align: right;\n",
       "    }\n",
       "</style>\n",
       "<table border=\"1\" class=\"dataframe\">\n",
       "  <thead>\n",
       "    <tr style=\"text-align: right;\">\n",
       "      <th></th>\n",
       "      <th>TransactionID</th>\n",
       "      <th>TransactionAmount</th>\n",
       "    </tr>\n",
       "  </thead>\n",
       "  <tbody>\n",
       "    <tr>\n",
       "      <th>0</th>\n",
       "      <td>1.0</td>\n",
       "      <td>79.413607</td>\n",
       "    </tr>\n",
       "    <tr>\n",
       "      <th>1</th>\n",
       "      <td>2.0</td>\n",
       "      <td>12.053087</td>\n",
       "    </tr>\n",
       "    <tr>\n",
       "      <th>2</th>\n",
       "      <td>3.0</td>\n",
       "      <td>33.310357</td>\n",
       "    </tr>\n",
       "    <tr>\n",
       "      <th>3</th>\n",
       "      <td>4.0</td>\n",
       "      <td>46.121117</td>\n",
       "    </tr>\n",
       "    <tr>\n",
       "      <th>4</th>\n",
       "      <td>5.0</td>\n",
       "      <td>54.051618</td>\n",
       "    </tr>\n",
       "  </tbody>\n",
       "</table>\n",
       "</div>"
      ],
      "text/plain": [
       "   TransactionID  TransactionAmount\n",
       "0            1.0          79.413607\n",
       "1            2.0          12.053087\n",
       "2            3.0          33.310357\n",
       "3            4.0          46.121117\n",
       "4            5.0          54.051618"
      ]
     },
     "execution_count": 113,
     "metadata": {},
     "output_type": "execute_result"
    }
   ],
   "source": [
    "amount_data.head()"
   ]
  },
  {
   "cell_type": "code",
   "execution_count": 114,
   "id": "79793933-7aa0-48e2-a833-df66daae65d5",
   "metadata": {},
   "outputs": [
    {
     "data": {
      "text/html": [
       "<div>\n",
       "<style scoped>\n",
       "    .dataframe tbody tr th:only-of-type {\n",
       "        vertical-align: middle;\n",
       "    }\n",
       "\n",
       "    .dataframe tbody tr th {\n",
       "        vertical-align: top;\n",
       "    }\n",
       "\n",
       "    .dataframe thead th {\n",
       "        text-align: right;\n",
       "    }\n",
       "</style>\n",
       "<table border=\"1\" class=\"dataframe\">\n",
       "  <thead>\n",
       "    <tr style=\"text-align: right;\">\n",
       "      <th></th>\n",
       "      <th>TransactionID</th>\n",
       "      <th>AnomalyScore</th>\n",
       "    </tr>\n",
       "  </thead>\n",
       "  <tbody>\n",
       "    <tr>\n",
       "      <th>0</th>\n",
       "      <td>1</td>\n",
       "      <td>0.686699</td>\n",
       "    </tr>\n",
       "    <tr>\n",
       "      <th>1</th>\n",
       "      <td>2</td>\n",
       "      <td>0.081749</td>\n",
       "    </tr>\n",
       "    <tr>\n",
       "      <th>2</th>\n",
       "      <td>3</td>\n",
       "      <td>0.023857</td>\n",
       "    </tr>\n",
       "    <tr>\n",
       "      <th>3</th>\n",
       "      <td>4</td>\n",
       "      <td>0.876994</td>\n",
       "    </tr>\n",
       "    <tr>\n",
       "      <th>4</th>\n",
       "      <td>5</td>\n",
       "      <td>0.034059</td>\n",
       "    </tr>\n",
       "  </tbody>\n",
       "</table>\n",
       "</div>"
      ],
      "text/plain": [
       "   TransactionID  AnomalyScore\n",
       "0              1      0.686699\n",
       "1              2      0.081749\n",
       "2              3      0.023857\n",
       "3              4      0.876994\n",
       "4              5      0.034059"
      ]
     },
     "execution_count": 114,
     "metadata": {},
     "output_type": "execute_result"
    }
   ],
   "source": [
    "anomaly_scores.head()"
   ]
  },
  {
   "cell_type": "code",
   "execution_count": 115,
   "id": "c88702e4-b09e-4bce-827c-142c5a9b6034",
   "metadata": {},
   "outputs": [
    {
     "data": {
      "text/html": [
       "<div>\n",
       "<style scoped>\n",
       "    .dataframe tbody tr th:only-of-type {\n",
       "        vertical-align: middle;\n",
       "    }\n",
       "\n",
       "    .dataframe tbody tr th {\n",
       "        vertical-align: top;\n",
       "    }\n",
       "\n",
       "    .dataframe thead th {\n",
       "        text-align: right;\n",
       "    }\n",
       "</style>\n",
       "<table border=\"1\" class=\"dataframe\">\n",
       "  <thead>\n",
       "    <tr style=\"text-align: right;\">\n",
       "      <th></th>\n",
       "      <th>TransactionID</th>\n",
       "      <th>Timestamp</th>\n",
       "      <th>MerchantID</th>\n",
       "    </tr>\n",
       "  </thead>\n",
       "  <tbody>\n",
       "    <tr>\n",
       "      <th>0</th>\n",
       "      <td>1</td>\n",
       "      <td>01-01-2022 00:00</td>\n",
       "      <td>2701</td>\n",
       "    </tr>\n",
       "    <tr>\n",
       "      <th>1</th>\n",
       "      <td>2</td>\n",
       "      <td>01-01-2022 01:00</td>\n",
       "      <td>2070</td>\n",
       "    </tr>\n",
       "    <tr>\n",
       "      <th>2</th>\n",
       "      <td>3</td>\n",
       "      <td>01-01-2022 02:00</td>\n",
       "      <td>2238</td>\n",
       "    </tr>\n",
       "    <tr>\n",
       "      <th>3</th>\n",
       "      <td>4</td>\n",
       "      <td>01-01-2022 03:00</td>\n",
       "      <td>2879</td>\n",
       "    </tr>\n",
       "    <tr>\n",
       "      <th>4</th>\n",
       "      <td>5</td>\n",
       "      <td>01-01-2022 04:00</td>\n",
       "      <td>2966</td>\n",
       "    </tr>\n",
       "  </tbody>\n",
       "</table>\n",
       "</div>"
      ],
      "text/plain": [
       "   TransactionID         Timestamp  MerchantID\n",
       "0              1  01-01-2022 00:00        2701\n",
       "1              2  01-01-2022 01:00        2070\n",
       "2              3  01-01-2022 02:00        2238\n",
       "3              4  01-01-2022 03:00        2879\n",
       "4              5  01-01-2022 04:00        2966"
      ]
     },
     "execution_count": 115,
     "metadata": {},
     "output_type": "execute_result"
    }
   ],
   "source": [
    "transaction_metadata.head()"
   ]
  },
  {
   "cell_type": "code",
   "execution_count": 116,
   "id": "abe514bd-ca11-46f6-9c3d-fa72f10be92f",
   "metadata": {},
   "outputs": [
    {
     "data": {
      "text/html": [
       "<div>\n",
       "<style scoped>\n",
       "    .dataframe tbody tr th:only-of-type {\n",
       "        vertical-align: middle;\n",
       "    }\n",
       "\n",
       "    .dataframe tbody tr th {\n",
       "        vertical-align: top;\n",
       "    }\n",
       "\n",
       "    .dataframe thead th {\n",
       "        text-align: right;\n",
       "    }\n",
       "</style>\n",
       "<table border=\"1\" class=\"dataframe\">\n",
       "  <thead>\n",
       "    <tr style=\"text-align: right;\">\n",
       "      <th></th>\n",
       "      <th>TransactionID</th>\n",
       "      <th>Amount</th>\n",
       "      <th>CustomerID</th>\n",
       "    </tr>\n",
       "  </thead>\n",
       "  <tbody>\n",
       "    <tr>\n",
       "      <th>0</th>\n",
       "      <td>1</td>\n",
       "      <td>55.530334</td>\n",
       "      <td>1952</td>\n",
       "    </tr>\n",
       "    <tr>\n",
       "      <th>1</th>\n",
       "      <td>2</td>\n",
       "      <td>12.881180</td>\n",
       "      <td>1027</td>\n",
       "    </tr>\n",
       "    <tr>\n",
       "      <th>2</th>\n",
       "      <td>3</td>\n",
       "      <td>50.176322</td>\n",
       "      <td>1955</td>\n",
       "    </tr>\n",
       "    <tr>\n",
       "      <th>3</th>\n",
       "      <td>4</td>\n",
       "      <td>41.634001</td>\n",
       "      <td>1796</td>\n",
       "    </tr>\n",
       "    <tr>\n",
       "      <th>4</th>\n",
       "      <td>5</td>\n",
       "      <td>78.122853</td>\n",
       "      <td>1946</td>\n",
       "    </tr>\n",
       "  </tbody>\n",
       "</table>\n",
       "</div>"
      ],
      "text/plain": [
       "   TransactionID     Amount  CustomerID\n",
       "0              1  55.530334        1952\n",
       "1              2  12.881180        1027\n",
       "2              3  50.176322        1955\n",
       "3              4  41.634001        1796\n",
       "4              5  78.122853        1946"
      ]
     },
     "execution_count": 116,
     "metadata": {},
     "output_type": "execute_result"
    }
   ],
   "source": [
    "transaction_records.head()"
   ]
  },
  {
   "cell_type": "code",
   "execution_count": 117,
   "id": "63109cb7-9508-4404-a209-936354ffacbf",
   "metadata": {},
   "outputs": [],
   "source": [
    "transaction_data = pd.merge(transaction_records, transaction_metadata, on='TransactionID')\n",
    "transaction_data = pd.merge(transaction_data, amount_data, on='TransactionID')\n",
    "transaction_data = pd.merge(transaction_data, merchant_data, on='MerchantID')\n",
    "transaction_data = pd.merge(transaction_data, transaction_category_labels, on='TransactionID')\n",
    "transaction_data = pd.merge(transaction_data, fraud_indicators, on='TransactionID', how='left')\n",
    "transaction_data = pd.merge(transaction_data, suspicious_activity, on='CustomerID', how='left')\n",
    "transaction_data = pd.merge(transaction_data, customer_data, on='CustomerID')"
   ]
  },
  {
   "cell_type": "code",
   "execution_count": 119,
   "id": "a81aba48-93ea-4739-a981-100043ef2b4c",
   "metadata": {},
   "outputs": [
    {
     "data": {
      "text/plain": [
       "0        1\n",
       "1      895\n",
       "2      914\n",
       "3      294\n",
       "4        2\n",
       "      ... \n",
       "994    973\n",
       "995    980\n",
       "996    984\n",
       "997    989\n",
       "998    996\n",
       "Name: TransactionID, Length: 999, dtype: int64"
      ]
     },
     "execution_count": 119,
     "metadata": {},
     "output_type": "execute_result"
    }
   ],
   "source": [
    "transaction_data.TransactionID\n"
   ]
  },
  {
   "cell_type": "code",
   "execution_count": 74,
   "id": "079650ea-87d5-4abc-b782-cc883da590f7",
   "metadata": {},
   "outputs": [],
   "source": [
    "#transaction_data1 = transaction_data.sort_values(by='TransactionID')\n"
   ]
  },
  {
   "cell_type": "code",
   "execution_count": 75,
   "id": "368d4136-a805-4489-ae58-4a1911b3a38d",
   "metadata": {},
   "outputs": [],
   "source": [
    "#transaction_data1.head()\n"
   ]
  },
  {
   "cell_type": "code",
   "execution_count": 76,
   "id": "c339842d-d89e-4ba6-8239-419a11c7eea6",
   "metadata": {},
   "outputs": [
    {
     "data": {
      "text/plain": [
       "(999, 14)"
      ]
     },
     "execution_count": 76,
     "metadata": {},
     "output_type": "execute_result"
    }
   ],
   "source": [
    "transaction_data.shape"
   ]
  },
  {
   "cell_type": "code",
   "execution_count": 77,
   "id": "b87d1780-c85f-45f7-a9e1-7302e6189416",
   "metadata": {},
   "outputs": [],
   "source": [
    "###Data Preprocessing"
   ]
  },
  {
   "cell_type": "code",
   "execution_count": 78,
   "id": "9442f57a-a0f7-46a6-b415-ae7a0221a094",
   "metadata": {},
   "outputs": [],
   "source": [
    "\n",
    "transaction_data = transaction_data.drop(['Timestamp', 'Name', 'Address'], axis=1)\n"
   ]
  },
  {
   "cell_type": "code",
   "execution_count": 79,
   "id": "f631a695-1564-49bc-90e0-97b3699ccc07",
   "metadata": {},
   "outputs": [],
   "source": [
    "transaction_data['SuspiciousFlag'].fillna(0, inplace=True)\n",
    "transaction_data['FraudIndicator'].fillna(0, inplace=True)\n"
   ]
  },
  {
   "cell_type": "code",
   "execution_count": 80,
   "id": "0fb45f2a-9a3e-4d0c-aaad-075a59e45ef6",
   "metadata": {},
   "outputs": [],
   "source": [
    "transaction_data['Category'] = pd.Categorical(transaction_data['Category'])\n",
    "transaction_data['Category'] = transaction_data['Category'].cat.codes\n"
   ]
  },
  {
   "cell_type": "code",
   "execution_count": 81,
   "id": "76253c4f-5b27-4e83-ac44-0d927c09575f",
   "metadata": {},
   "outputs": [],
   "source": [
    "if 'MerchantName' in transaction_data.columns:\n",
    "    # Encode 'MerchantName' using one-hot encoding\n",
    "    transaction_data = pd.get_dummies(transaction_data, columns=['MerchantName'], prefix='Merchant')\n",
    "\n",
    "# Check if 'Location' is present before one-hot encoding\n",
    "if 'Location' in transaction_data.columns:\n",
    "    transaction_data = pd.get_dummies(transaction_data, columns=['Location'])#"
   ]
  },
  {
   "cell_type": "code",
   "execution_count": null,
   "id": "25761486-2b62-42fd-9c3e-e60e8dedc247",
   "metadata": {},
   "outputs": [],
   "source": []
  },
  {
   "cell_type": "code",
   "execution_count": 82,
   "id": "9c9cb84f-5056-406d-ac26-7a0bff193429",
   "metadata": {},
   "outputs": [],
   "source": [
    "X = transaction_data.drop(['TransactionID', 'FraudIndicator', 'SuspiciousFlag'], axis=1)\n",
    "y = transaction_data['FraudIndicator']\n"
   ]
  },
  {
   "cell_type": "code",
   "execution_count": 83,
   "id": "7d6bb4da-3c5f-4035-824a-3d06b7926b67",
   "metadata": {},
   "outputs": [],
   "source": [
    "scaler = StandardScaler()\n",
    "X_scaled = scaler.fit_transform(X)"
   ]
  },
  {
   "cell_type": "code",
   "execution_count": 84,
   "id": "ae105572-4c79-4b51-bd32-986abe391446",
   "metadata": {},
   "outputs": [],
   "source": [
    "X_train, X_test, y_train, y_test = train_test_split(X_scaled, y, test_size=0.2, random_state=42)"
   ]
  },
  {
   "cell_type": "code",
   "execution_count": 85,
   "id": "42f07399-4887-40e3-8123-871ae8ca71d9",
   "metadata": {},
   "outputs": [
    {
     "data": {
      "text/html": [
       "<div>\n",
       "<style scoped>\n",
       "    .dataframe tbody tr th:only-of-type {\n",
       "        vertical-align: middle;\n",
       "    }\n",
       "\n",
       "    .dataframe tbody tr th {\n",
       "        vertical-align: top;\n",
       "    }\n",
       "\n",
       "    .dataframe thead th {\n",
       "        text-align: right;\n",
       "    }\n",
       "</style>\n",
       "<table border=\"1\" class=\"dataframe\">\n",
       "  <thead>\n",
       "    <tr style=\"text-align: right;\">\n",
       "      <th></th>\n",
       "      <th>TransactionID</th>\n",
       "      <th>Amount</th>\n",
       "      <th>CustomerID</th>\n",
       "      <th>MerchantID</th>\n",
       "      <th>TransactionAmount</th>\n",
       "      <th>Category</th>\n",
       "      <th>FraudIndicator</th>\n",
       "      <th>SuspiciousFlag</th>\n",
       "      <th>Age</th>\n",
       "      <th>Merchant_Merchant 2001</th>\n",
       "      <th>...</th>\n",
       "      <th>Location_Location 2984</th>\n",
       "      <th>Location_Location 2989</th>\n",
       "      <th>Location_Location 2991</th>\n",
       "      <th>Location_Location 2992</th>\n",
       "      <th>Location_Location 2993</th>\n",
       "      <th>Location_Location 2994</th>\n",
       "      <th>Location_Location 2995</th>\n",
       "      <th>Location_Location 2997</th>\n",
       "      <th>Location_Location 2998</th>\n",
       "      <th>Location_Location 3000</th>\n",
       "    </tr>\n",
       "  </thead>\n",
       "  <tbody>\n",
       "    <tr>\n",
       "      <th>0</th>\n",
       "      <td>1</td>\n",
       "      <td>55.530334</td>\n",
       "      <td>1952</td>\n",
       "      <td>2701</td>\n",
       "      <td>79.413607</td>\n",
       "      <td>2</td>\n",
       "      <td>0</td>\n",
       "      <td>0</td>\n",
       "      <td>50</td>\n",
       "      <td>False</td>\n",
       "      <td>...</td>\n",
       "      <td>False</td>\n",
       "      <td>False</td>\n",
       "      <td>False</td>\n",
       "      <td>False</td>\n",
       "      <td>False</td>\n",
       "      <td>False</td>\n",
       "      <td>False</td>\n",
       "      <td>False</td>\n",
       "      <td>False</td>\n",
       "      <td>False</td>\n",
       "    </tr>\n",
       "    <tr>\n",
       "      <th>1</th>\n",
       "      <td>895</td>\n",
       "      <td>53.683898</td>\n",
       "      <td>1952</td>\n",
       "      <td>2149</td>\n",
       "      <td>90.422026</td>\n",
       "      <td>0</td>\n",
       "      <td>0</td>\n",
       "      <td>0</td>\n",
       "      <td>50</td>\n",
       "      <td>False</td>\n",
       "      <td>...</td>\n",
       "      <td>False</td>\n",
       "      <td>False</td>\n",
       "      <td>False</td>\n",
       "      <td>False</td>\n",
       "      <td>False</td>\n",
       "      <td>False</td>\n",
       "      <td>False</td>\n",
       "      <td>False</td>\n",
       "      <td>False</td>\n",
       "      <td>False</td>\n",
       "    </tr>\n",
       "    <tr>\n",
       "      <th>2</th>\n",
       "      <td>914</td>\n",
       "      <td>96.523142</td>\n",
       "      <td>1009</td>\n",
       "      <td>2701</td>\n",
       "      <td>94.931704</td>\n",
       "      <td>2</td>\n",
       "      <td>0</td>\n",
       "      <td>0</td>\n",
       "      <td>32</td>\n",
       "      <td>False</td>\n",
       "      <td>...</td>\n",
       "      <td>False</td>\n",
       "      <td>False</td>\n",
       "      <td>False</td>\n",
       "      <td>False</td>\n",
       "      <td>False</td>\n",
       "      <td>False</td>\n",
       "      <td>False</td>\n",
       "      <td>False</td>\n",
       "      <td>False</td>\n",
       "      <td>False</td>\n",
       "    </tr>\n",
       "    <tr>\n",
       "      <th>3</th>\n",
       "      <td>294</td>\n",
       "      <td>35.151451</td>\n",
       "      <td>1009</td>\n",
       "      <td>2253</td>\n",
       "      <td>16.922601</td>\n",
       "      <td>2</td>\n",
       "      <td>0</td>\n",
       "      <td>0</td>\n",
       "      <td>32</td>\n",
       "      <td>False</td>\n",
       "      <td>...</td>\n",
       "      <td>False</td>\n",
       "      <td>False</td>\n",
       "      <td>False</td>\n",
       "      <td>False</td>\n",
       "      <td>False</td>\n",
       "      <td>False</td>\n",
       "      <td>False</td>\n",
       "      <td>False</td>\n",
       "      <td>False</td>\n",
       "      <td>False</td>\n",
       "    </tr>\n",
       "    <tr>\n",
       "      <th>4</th>\n",
       "      <td>2</td>\n",
       "      <td>12.881180</td>\n",
       "      <td>1027</td>\n",
       "      <td>2070</td>\n",
       "      <td>12.053087</td>\n",
       "      <td>1</td>\n",
       "      <td>0</td>\n",
       "      <td>0</td>\n",
       "      <td>46</td>\n",
       "      <td>False</td>\n",
       "      <td>...</td>\n",
       "      <td>False</td>\n",
       "      <td>False</td>\n",
       "      <td>False</td>\n",
       "      <td>False</td>\n",
       "      <td>False</td>\n",
       "      <td>False</td>\n",
       "      <td>False</td>\n",
       "      <td>False</td>\n",
       "      <td>False</td>\n",
       "      <td>False</td>\n",
       "    </tr>\n",
       "  </tbody>\n",
       "</table>\n",
       "<p>5 rows × 1309 columns</p>\n",
       "</div>"
      ],
      "text/plain": [
       "   TransactionID     Amount  CustomerID  MerchantID  TransactionAmount  \\\n",
       "0              1  55.530334        1952        2701          79.413607   \n",
       "1            895  53.683898        1952        2149          90.422026   \n",
       "2            914  96.523142        1009        2701          94.931704   \n",
       "3            294  35.151451        1009        2253          16.922601   \n",
       "4              2  12.881180        1027        2070          12.053087   \n",
       "\n",
       "   Category  FraudIndicator  SuspiciousFlag  Age  Merchant_Merchant 2001  ...  \\\n",
       "0         2               0               0   50                   False  ...   \n",
       "1         0               0               0   50                   False  ...   \n",
       "2         2               0               0   32                   False  ...   \n",
       "3         2               0               0   32                   False  ...   \n",
       "4         1               0               0   46                   False  ...   \n",
       "\n",
       "   Location_Location 2984  Location_Location 2989  Location_Location 2991  \\\n",
       "0                   False                   False                   False   \n",
       "1                   False                   False                   False   \n",
       "2                   False                   False                   False   \n",
       "3                   False                   False                   False   \n",
       "4                   False                   False                   False   \n",
       "\n",
       "   Location_Location 2992  Location_Location 2993  Location_Location 2994  \\\n",
       "0                   False                   False                   False   \n",
       "1                   False                   False                   False   \n",
       "2                   False                   False                   False   \n",
       "3                   False                   False                   False   \n",
       "4                   False                   False                   False   \n",
       "\n",
       "   Location_Location 2995  Location_Location 2997  Location_Location 2998  \\\n",
       "0                   False                   False                   False   \n",
       "1                   False                   False                   False   \n",
       "2                   False                   False                   False   \n",
       "3                   False                   False                   False   \n",
       "4                   False                   False                   False   \n",
       "\n",
       "   Location_Location 3000  \n",
       "0                   False  \n",
       "1                   False  \n",
       "2                   False  \n",
       "3                   False  \n",
       "4                   False  \n",
       "\n",
       "[5 rows x 1309 columns]"
      ]
     },
     "execution_count": 85,
     "metadata": {},
     "output_type": "execute_result"
    }
   ],
   "source": [
    "transaction_data.head()"
   ]
  },
  {
   "cell_type": "markdown",
   "id": "af3d1d33-8737-4873-968d-b7ec49c17b33",
   "metadata": {},
   "source": [
    "me![image.png](attachment:a60a3eaa-07d9-49be-a95d-8fc560154576.png))\n",
    " "
   ]
  },
  {
   "cell_type": "code",
   "execution_count": 86,
   "id": "051087b6-9475-4f05-bd2e-4a08b01eeb6f",
   "metadata": {},
   "outputs": [
    {
     "data": {
      "image/jpeg": "[encoded data removed]",
      "text/plain": [
       "<IPython.core.display.Image object>"
      ]
     },
     "execution_count": 86,
     "metadata": {},
     "output_type": "execute_result"
    }
   ],
   "source": [
    "#from IPython.display import Image\n",
    "#Image(\"PP.JPG\")"
   ]
  },
  {
   "cell_type": "code",
   "execution_count": 87,
   "id": "91e8ca5d-50d4-42f4-885d-2b60b6ec4f00",
   "metadata": {},
   "outputs": [],
   "source": [
    "#from IPython.display import Image\n",
    "#Image(\"op.JPG\")"
   ]
  },
  {
   "cell_type": "code",
   "execution_count": 88,
   "id": "1e30004d-1a83-4f77-ae22-f348ba061e71",
   "metadata": {},
   "outputs": [],
   "source": [
    "\n",
    "# Update input_dim based on the correct number of features\n",
    "input_dim = X_train.shape[1]\n",
    "\n",
    "input_layer = Input(shape=(input_dim,))\n",
    "encoder = Dense(32, activation='relu')(input_layer)\n",
    "encoder = Dense(16, activation='relu')(encoder)\n",
    "decoder = Dense(32, activation='relu')(encoder)\n",
    "decoder = Dense(input_dim, activation='sigmoid')(decoder)\n",
    "\n",
    "autoencoder = Model(inputs=input_layer, outputs=decoder)\n",
    "\n",
    "# Compile Autoencoder\n",
    "autoencoder.compile(optimizer='adam', loss='mse')\n",
    "\n"
   ]
  },
  {
   "cell_type": "code",
   "execution_count": 89,
   "id": "e444951b-4d2e-4a04-81c0-c8c111f73a09",
   "metadata": {},
   "outputs": [
    {
     "name": "stdout",
     "output_type": "stream",
     "text": [
      "Epoch 1/20\n",
      "25/25 [==============================] - 2s 29ms/step - loss: 1.2093 - val_loss: 1.1979\n",
      "Epoch 2/20\n",
      "25/25 [==============================] - 0s 11ms/step - loss: 1.0501 - val_loss: 1.0921\n",
      "Epoch 3/20\n",
      "25/25 [==============================] - 1s 25ms/step - loss: 0.9935 - val_loss: 1.0745\n",
      "Epoch 4/20\n",
      "25/25 [==============================] - 0s 19ms/step - loss: 0.9919 - val_loss: 1.0718\n",
      "Epoch 5/20\n",
      "25/25 [==============================] - 1s 20ms/step - loss: 0.9917 - val_loss: 1.0710\n",
      "Epoch 6/20\n",
      "25/25 [==============================] - 1s 25ms/step - loss: 0.9915 - val_loss: 1.0706\n",
      "Epoch 7/20\n",
      "25/25 [==============================] - 0s 14ms/step - loss: 0.9914 - val_loss: 1.0707\n",
      "Epoch 8/20\n",
      "25/25 [==============================] - 0s 19ms/step - loss: 0.9912 - val_loss: 1.0710\n",
      "Epoch 9/20\n",
      "25/25 [==============================] - 1s 20ms/step - loss: 0.9910 - val_loss: 1.0715\n"
     ]
    },
    {
     "data": {
      "text/plain": [
       "<keras.callbacks.History at 0x124cc2fcc40>"
      ]
     },
     "execution_count": 89,
     "metadata": {},
     "output_type": "execute_result"
    }
   ],
   "source": [
    "# Set up early stopping\n",
    "early_stopping = EarlyStopping(monitor='val_loss', patience=3, restore_best_weights=True)\n",
    "\n",
    "# Train the model\n",
    "autoencoder.fit(X_train, X_train,\n",
    "                epochs=20,\n",
    "                batch_size=32,\n",
    "                shuffle=True,\n",
    "                validation_data=(X_test, X_test),\n",
    "                callbacks=[early_stopping])\n"
   ]
  },
  {
   "cell_type": "code",
   "execution_count": 90,
   "id": "a64a5796-b4d3-49da-aa98-a1d341b9cd06",
   "metadata": {},
   "outputs": [
    {
     "name": "stdout",
     "output_type": "stream",
     "text": [
      "7/7 [==============================] - 0s 5ms/step\n"
     ]
    }
   ],
   "source": [
    "\n",
    "decoded_data = autoencoder.predict(X_test)\n",
    "rmse = np.sqrt(np.mean(np.square(X_test - decoded_data), axis=1))\n",
    "\n",
    "\n",
    "transaction_data['RMSE'] = np.nan\n",
    "transaction_data.loc[y_test.index, 'RMSE'] = rmse\n"
   ]
  },
  {
   "cell_type": "code",
   "execution_count": 91,
   "id": "b5733155-6f4e-4604-851a-a3478ba84dd6",
   "metadata": {},
   "outputs": [],
   "source": [
    "\n",
    "threshold = transaction_data['RMSE'].quantile(0.965)\n",
    "\n",
    "\n",
    "transaction_data['PredictedFraud'] = 0\n",
    "transaction_data.loc[transaction_data['RMSE'] > threshold, 'PredictedFraud'] = 1\n"
   ]
  },
  {
   "cell_type": "code",
   "execution_count": 92,
   "id": "e2cd70bf-5ca2-4425-84b9-58297effc6c7",
   "metadata": {},
   "outputs": [],
   "source": [
    "from sklearn.metrics import accuracy_score, confusion_matrix, classification_report"
   ]
  },
  {
   "cell_type": "code",
   "execution_count": null,
   "id": "551f2006-46b2-49de-8556-be81166aa1f6",
   "metadata": {},
   "outputs": [],
   "source": []
  },
  {
   "cell_type": "code",
   "execution_count": 93,
   "id": "df3f07d6-0389-436d-855f-aa5e3bc9dfa0",
   "metadata": {},
   "outputs": [],
   "source": [
    "merchant_trust_scores = transaction_data.groupby('MerchantID')['RMSE'].mean().reset_index()\n",
    "merchant_trust_scores.columns = ['MerchantID', 'MerchantTrustScore']\n",
    "\n",
    "customer_trust_scores = transaction_data.groupby('CustomerID')['RMSE'].mean().reset_index()\n",
    "customer_trust_scores.columns = ['CustomerID', 'CustomerTrustScore']\n",
    "\n",
    "transaction_trust_scores = transaction_data.groupby('TransactionID')['RMSE'].mean().reset_index()\n",
    "transaction_trust_scores.columns = ['TransactionID', 'TransactionTrustScore']"
   ]
  },
  {
   "cell_type": "code",
   "execution_count": 94,
   "id": "a2c9f1d2-fdc3-4f6e-b829-94b6bb327bcb",
   "metadata": {},
   "outputs": [],
   "source": [
    "transaction_data = pd.merge(transaction_data, merchant_trust_scores, on='MerchantID', how='left')\n",
    "transaction_data = pd.merge(transaction_data, customer_trust_scores, on='CustomerID', how='left')\n",
    "transaction_data = pd.merge(transaction_data, transaction_trust_scores, on='TransactionID', how='left')"
   ]
  },
  {
   "cell_type": "code",
   "execution_count": 95,
   "id": "8855f28a-4e11-4404-9e8e-56c9d96cb8f4",
   "metadata": {},
   "outputs": [],
   "source": [
    "trust_threshold = 0.5  # Adjust the threshold based on your preference\n",
    "\n",
    "# Flag transactions as fraudulent based on the threshold and trust scores\n",
    "transaction_data['PredictedFraud'] = 0\n",
    "transaction_data.loc[(transaction_data['RMSE'] > threshold) & (transaction_data['MerchantTrustScore'] < trust_threshold) & \n",
    "                      (transaction_data['CustomerTrustScore'] < trust_threshold) & \n",
    "                      (transaction_data['TransactionTrustScore'] < trust_threshold), 'PredictedFraud'] = 1"
   ]
  },
  {
   "cell_type": "code",
   "execution_count": 96,
   "id": "e46ef80e-71c4-44da-b09f-29a30411f545",
   "metadata": {},
   "outputs": [],
   "source": [
    "average_transaction_amount = transaction_data.groupby('CustomerID')['TransactionAmount'].mean().reset_index()\n",
    "average_transaction_amount.columns = ['CustomerID', 'AverageTransactionAmount']\n",
    "# Calculate the frequency of transactions for each customer\n",
    "transaction_frequency = transaction_data.groupby('CustomerID').size().reset_index(name='TransactionFrequency')\n",
    "\n",
    "# Merge additional features back into the main dataframe\n",
    "transaction_data = pd.merge(transaction_data, average_transaction_amount, on='CustomerID', how='left')\n",
    "transaction_data = pd.merge(transaction_data, transaction_frequency, on='CustomerID', how='left')\n",
    "\n",
    "# Fill missing values in the new features\n",
    "transaction_data['AverageTransactionAmount'].fillna(0, inplace=True)\n",
    "transaction_data['TransactionFrequency'].fillna(0, inplace=True)\n"
   ]
  },
  {
   "cell_type": "code",
   "execution_count": 97,
   "id": "c744dddd-7085-4db1-a704-79baa90160ba",
   "metadata": {},
   "outputs": [],
   "source": [
    "X = transaction_data.drop(['TransactionID', 'FraudIndicator', 'SuspiciousFlag'], axis=1)\n",
    "\n",
    "# Standardize data including the new features\n",
    "scaler = StandardScaler()\n",
    "X_scaled = scaler.fit_transform(X)\n",
    "\n",
    "# Train/test split with the updated feature set\n",
    "X_train, X_test, y_train, y_test = train_test_split(X_scaled, y, test_size=0.2, random_state=42)\n"
   ]
  },
  {
   "cell_type": "code",
   "execution_count": 98,
   "id": "99200327-964b-4350-9475-9f0520aeef85",
   "metadata": {},
   "outputs": [],
   "source": [
    "input_dim = X_train.shape[1]\n",
    "\n",
    "input_layer = Input(shape=(input_dim,))\n",
    "encoder = Dense(32, activation='relu')(input_layer)  # Adjusted the number of neurons for better representation\n",
    "encoder = Dense(16, activation='relu')(encoder)\n",
    "decoder = Dense(32, activation='relu')(encoder)\n",
    "decoder = Dense(input_dim, activation='sigmoid')(decoder)\n",
    "\n",
    "autoencoder = Model(inputs=input_layer, outputs=decoder)\n"
   ]
  },
  {
   "cell_type": "code",
   "execution_count": 99,
   "id": "33d90037-985b-4e18-877d-efde69cc1198",
   "metadata": {},
   "outputs": [],
   "source": [
    "autoencoder.compile(optimizer='adam', loss='mse')"
   ]
  },
  {
   "cell_type": "code",
   "execution_count": 100,
   "id": "76568836-d419-4f3a-a21b-70ba9dd90aec",
   "metadata": {},
   "outputs": [
    {
     "name": "stdout",
     "output_type": "stream",
     "text": [
      "Epoch 1/20\n",
      "25/25 [==============================] - 1s 22ms/step - loss: nan - val_loss: nan\n",
      "Epoch 2/20\n",
      "25/25 [==============================] - 0s 9ms/step - loss: nan - val_loss: nan\n",
      "Epoch 3/20\n",
      "25/25 [==============================] - 0s 9ms/step - loss: nan - val_loss: nan\n",
      "7/7 [==============================] - 0s 3ms/step\n"
     ]
    }
   ],
   "source": [
    "#Train the model with early stopping\n",
    "autoencoder.fit(X_train, X_train,\n",
    "                epochs=20,\n",
    "                batch_size=32,\n",
    "                shuffle=True,\n",
    "                validation_data=(X_test, X_test),\n",
    "                callbacks=[early_stopping])\n",
    "\n",
    "# Step 14: Make Predictions and Calculate RMSE\n",
    "# Make predictions on the test set\n",
    "decoded_data = autoencoder.predict(X_test)\n",
    "\n",
    "# Calculate RMSE for each transaction\n",
    "rmse = np.sqrt(np.mean(np.square(X_test - decoded_data), axis=1))\n",
    "\n",
    "# Add RMSE to the dataframe\n",
    "transaction_data['RMSE'] = np.nan\n",
    "transaction_data.loc[y_test.index, 'RMSE'] = rmse\n",
    "\n",
    "\n"
   ]
  },
  {
   "cell_type": "code",
   "execution_count": 101,
   "id": "104371ab-7ad8-4ea5-8692-6c0c675334e4",
   "metadata": {},
   "outputs": [],
   "source": [
    "suspicious_threshold = 0.8  # Adjust the threshold based on your preference\n",
    "\n",
    "# Flag transactions as suspicious based on the threshold error\n",
    "transaction_data['SuspiciousFlag'] = 0\n",
    "transaction_data.loc[transaction_data['RMSE'] > suspicious_threshold, 'SuspiciousFlag'] = 1\n",
    "\n",
    "# Update trust scores based on the suspicious flag and fraud flag\n",
    "def update_trust_score(trust_score, suspicious_flag, fraud_flag):\n",
    "    if fraud_flag == 1:\n",
    "        trust_score = max(0, trust_score - 0.2)  # Decrease trust score more for flagged fraudulent transactions\n",
    "    else:\n",
    "        if suspicious_flag == 1:\n",
    "            trust_score = max(0, trust_score - 0.1)  # Decrease trust score for suspicious transactions\n",
    "        else:\n",
    "            trust_score = min(1, trust_score + 0.1)  # Increase trust score for non-suspicious transactions\n",
    "    return trust_score\n"
   ]
  },
  {
   "cell_type": "code",
   "execution_count": 102,
   "id": "dc94e1ed-7a43-4dc7-a510-e0430a607606",
   "metadata": {},
   "outputs": [],
   "source": [
    "# Apply the updated function to update trust scores in the dataframe\n",
    "transaction_data['MerchantTrustScore'] = transaction_data.apply(lambda row: update_trust_score(row['MerchantTrustScore'], row['SuspiciousFlag'], row['PredictedFraud']), axis=1)\n",
    "transaction_data['CustomerTrustScore'] = transaction_data.apply(lambda row: update_trust_score(row['CustomerTrustScore'], row['SuspiciousFlag'], row['PredictedFraud']), axis=1)\n",
    "transaction_data['TransactionTrustScore'] = transaction_data.apply(lambda row: update_trust_score(row['TransactionTrustScore'], row['SuspiciousFlag'], row['PredictedFraud']), axis=1)"
   ]
  },
  {
   "cell_type": "code",
   "execution_count": 103,
   "id": "0c6882b4-732d-46ce-afc7-33180d720c00",
   "metadata": {},
   "outputs": [
    {
     "name": "stdout",
     "output_type": "stream",
     "text": [
      "Model Accuracy: 0.954954954954955\n"
     ]
    }
   ],
   "source": [
    "accuracy = np.mean(transaction_data['PredictedFraud'] == transaction_data['FraudIndicator'])\n",
    "print(f\"Model Accuracy: {accuracy}\")"
   ]
  },
  {
   "cell_type": "code",
   "execution_count": null,
   "id": "5869bb18-7569-45e5-a724-1d58118b634d",
   "metadata": {},
   "outputs": [],
   "source": []
  },
  {
   "cell_type": "code",
   "execution_count": null,
   "id": "1ec7da4e-6f45-43ca-a11c-5bda62a3a971",
   "metadata": {},
   "outputs": [],
   "source": []
  },
  {
   "cell_type": "code",
   "execution_count": null,
   "id": "c7a74509-f04c-4d6d-bf83-23fdfdeda395",
   "metadata": {},
   "outputs": [],
   "source": []
  },
  {
   "cell_type": "code",
   "execution_count": null,
   "id": "2de31242-4faa-40b9-88e6-cfbf4d7c118b",
   "metadata": {},
   "outputs": [],
   "source": []
  },
  {
   "cell_type": "code",
   "execution_count": null,
   "id": "4ff21b2b-70c6-415b-97d5-5ddac7b26d8b",
   "metadata": {},
   "outputs": [],
   "source": []
  },
  {
   "cell_type": "code",
   "execution_count": null,
   "id": "9064cb36-b596-4eb0-8409-24a7d12d7817",
   "metadata": {},
   "outputs": [],
   "source": []
  },
  {
   "cell_type": "code",
   "execution_count": null,
   "id": "8dad785d-2265-4fb1-a4b2-97afc4e7c581",
   "metadata": {},
   "outputs": [],
   "source": []
  },
  {
   "cell_type": "code",
   "execution_count": null,
   "id": "cc9c6f86-933d-4fb3-8517-c2f6665173a6",
   "metadata": {},
   "outputs": [],
   "source": []
  },
  {
   "cell_type": "code",
   "execution_count": null,
   "id": "e3bd8502-8e2d-4d81-8ea6-51bd7e63bb39",
   "metadata": {},
   "outputs": [],
   "source": []
  }
 ],
 "metadata": {
  "kernelspec": {
   "display_name": "Python 3 (ipykernel)",
   "language": "python",
   "name": "python3"
  },
  "language_info": {
   "codemirror_mode": {
    "name": "ipython",
    "version": 3
   },
   "file_extension": ".py",
   "mimetype": "text/x-python",
   "name": "python",
   "nbconvert_exporter": "python",
   "pygments_lexer": "ipython3",
   "version": "3.10.13"
  }
 },
 "nbformat": 4,
 "nbformat_minor": 5
}
